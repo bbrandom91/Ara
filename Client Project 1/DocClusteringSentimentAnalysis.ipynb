{
 "cells": [
  {
   "cell_type": "markdown",
   "metadata": {},
   "source": [
    "# Sentiment Analysis and Clustering of Pubmed Abstracts"
   ]
  },
  {
   "cell_type": "code",
   "execution_count": 1,
   "metadata": {},
   "outputs": [],
   "source": [
    "import pandas as pd\n",
    "import numpy as np\n",
    "import matplotlib.pyplot as plt\n",
    "import seaborn as sns\n",
    "import datetime,re, string, timeit, nltk\n",
    "from sklearn.feature_extraction.text import CountVectorizer,TfidfVectorizer\n",
    "from nltk.stem import WordNetLemmatizer\n",
    "from nltk.corpus import stopwords\n",
    "from nltk.sentiment.vader import SentimentIntensityAnalyzer\n",
    "from nltk.corpus import sentiwordnet as swn\n",
    "from nltk.corpus.reader.wordnet import WordNetError\n",
    "from sklearn.feature_extraction.text import TfidfVectorizer\n",
    "from sklearn.metrics.pairwise import cosine_similarity\n",
    "from sklearn.cluster import KMeans\n",
    "from  sklearn.externals import joblib"
   ]
  },
  {
   "cell_type": "code",
   "execution_count": 22,
   "metadata": {},
   "outputs": [],
   "source": [
    "#loading in data\n",
    "df = pd.read_csv(\"pubmed_cleaned.csv\")\n",
    "df = df[df['Clean_Abstract'].isnull() == False]"
   ]
  },
  {
   "cell_type": "code",
   "execution_count": 4,
   "metadata": {},
   "outputs": [
    {
     "data": {
      "text/plain": [
       "array(['fever', 'diabetes type 2', 'pancreatic cancer', 'alzheimers',\n",
       "       'lupus', 'parkinsons', 'dementia', 'breast cancer',\n",
       "       'high blood pressure', 'heart disease', 'lymphoma',\n",
       "       'clinical depression', 'bipolar disorder', 'arthritis',\n",
       "       'lime disease', 'amyotrophic lateral sclerosis', 'obesity',\n",
       "       'acquired immunodeficiency syndrome', 'thyroid cancer',\n",
       "       'kidney failure', 'multiple sclerosis', 'lung cancer', 'melanoma',\n",
       "       'Non-melanoma skin cancer', 'prostate cancer', 'Colorectal cancer',\n",
       "       'non-hodgkin lymphoma', 'insomnia', 'anxiety disorder', 'dystonia',\n",
       "       'influenza', 'stroke', 'hepatitis b'], dtype=object)"
      ]
     },
     "execution_count": 4,
     "metadata": {},
     "output_type": "execute_result"
    }
   ],
   "source": [
    "df['disease'].unique()"
   ]
  },
  {
   "cell_type": "code",
   "execution_count": 23,
   "metadata": {},
   "outputs": [],
   "source": [
    "df = df[df['disease']=='alzheimers'].reset_index()"
   ]
  },
  {
   "cell_type": "markdown",
   "metadata": {},
   "source": [
    "#### Creating the TF-IDF matrix\n",
    "\n",
    "A TF-IDF matrix is:  ___\n",
    "\n",
    "Steps:\n",
    "\n",
    "1) count word occurences by document\n",
    "\n",
    "2) transform that into a docment-term matrix, where the rows are the documents and the columns each represent 1 word\n",
    "\n",
    "3) apply erm frequency-inverse doc frequency weighting- words that occure frequently within a document but not frequently within all of the documents (corpus) recieve higher weights, as they are assumed to have higher relevance in doc"
   ]
  },
  {
   "cell_type": "code",
   "execution_count": null,
   "metadata": {},
   "outputs": [],
   "source": [
    "# key args:\n",
    "# max_df: maximum frequency within the documents a given\n",
    "#    feature can have to be used in the tfi-idf matrix\n",
    "# min_idf: number or %  of of documents the term must be in to be considered in matrix\n",
    "# ngram_range - 1 for unigram (1 word) 2 for bigram, etc.\n",
    "\n",
    "tfidf_vectorizer = TfidfVectorizer(max_df=0.8, max_features=200000,\n",
    "                                 min_df=0.01, stop_words='english',\n",
    "                                 use_idf=True, ngram_range=(1,3))\n",
    "#%time \n",
    "tfidf_matrix = tfidf_vectorizer.fit_transform(df['Clean_Abstract'])\n",
    "\n",
    "print(tfidf_matrix.shape)"
   ]
  },
  {
   "cell_type": "code",
   "execution_count": null,
   "metadata": {},
   "outputs": [],
   "source": [
    "# get terms in matrix\n",
    "terms = tfidf_vectorizer.get_feature_names()\n",
    "\n",
    "# get cosine similarity\n",
    "#dist = 1 - cosine_similarity(tfidf_matrix)"
   ]
  },
  {
   "cell_type": "markdown",
   "metadata": {},
   "source": [
    "## Option 1: Kmeans-clustering"
   ]
  },
  {
   "cell_type": "code",
   "execution_count": null,
   "metadata": {},
   "outputs": [],
   "source": [
    "n_clusters = 8\n",
    "\n",
    "km = KMeans(n_clusters=n_clusters)\n",
    "\n",
    "%time km.fit(tfidf_matrix)\n",
    "\n",
    "clusters = km.labels_.tolist()"
   ]
  },
  {
   "cell_type": "code",
   "execution_count": null,
   "metadata": {},
   "outputs": [],
   "source": [
    "joblib.dump(km,  'pb_doc_cluster.pkl')\n",
    "km = joblib.load('pb_doc_cluster.pkl')\n",
    "clusters = km.labels_.tolist()"
   ]
  },
  {
   "cell_type": "code",
   "execution_count": null,
   "metadata": {},
   "outputs": [],
   "source": [
    "df['cluster'] = clusters"
   ]
  },
  {
   "cell_type": "code",
   "execution_count": null,
   "metadata": {},
   "outputs": [],
   "source": [
    "df['cluster'].value_counts()"
   ]
  },
  {
   "cell_type": "code",
   "execution_count": null,
   "metadata": {},
   "outputs": [],
   "source": [
    "print(\"Top terms per cluster:\")\n",
    "print()\n",
    "order_centroids = km.cluster_centers_.argsort()[:, ::-1]\n",
    "for i in range(n_clusters):\n",
    "    print(\"Cluster %d words:\" % i, end='')\n",
    "    for ind in order_centroids[i, :6]:\n",
    "        print(' %s' % terms[ind], end='')\n",
    "    print()\n",
    "    print()\n",
    "    print(\"Cluster %d titles:\" % i, end='')\n",
    "    titles = df[df['cluster']==i]['Article_title'].values.tolist()\n",
    "    print(titles[0:11])\n",
    "    print()\n",
    "    print()"
   ]
  },
  {
   "cell_type": "markdown",
   "metadata": {},
   "source": [
    "## Option 2: create tokens for each abstract and then POS tag, then get sentiment for each term"
   ]
  },
  {
   "cell_type": "code",
   "execution_count": 24,
   "metadata": {},
   "outputs": [],
   "source": [
    "# map part of speech for sentiment library from returned form\n",
    "def map_pos(x):\n",
    "    x = str(x)\n",
    "    newtag = ''\n",
    "    if x.startswith('NN'):\n",
    "        newtag = 'n'\n",
    "    elif x.startswith('JJ'):\n",
    "        newtag = 'a'\n",
    "    elif x.startswith('V'):\n",
    "        newtag = 'v'\n",
    "    elif x.startswith('R'):\n",
    "        newtag = 'r'\n",
    "    else:\n",
    "        newtag = ''\n",
    "    return newtag\n",
    "    \n",
    "# tag the word for pos\n",
    "def abs_tagger(x):\n",
    "    text = nltk.word_tokenize(x)\n",
    "    return nltk.pos_tag(text)    \n",
    "\n",
    "# get sentiment score of document\n",
    "def tag_get_score(x):\n",
    "    \n",
    "    sent_score = []\n",
    "    \n",
    "    tagged_tokens = abs_tagger(x)\n",
    "    \n",
    "    for token in tagged_tokens:\n",
    "        \n",
    "        lemma = token[0]\n",
    "        \n",
    "        newtag = map_pos(token[1])\n",
    "\n",
    "        if newtag != '':\n",
    "            #swn_term = str(lemma + '.'+newtag+'.01')\n",
    "            swn_lemma = list(swn.senti_synsets(lemma,newtag))\n",
    "            score = 0.0\n",
    "            if (len(swn_lemma)>0):\n",
    "                for s in swn_lemma:\n",
    "                    score = s.pos_score() - s.neg_score()\n",
    "                sent_score.append(score / len(swn_lemma))\n",
    "            \n",
    "    if (len(sent_score) == 0 or len(sent_score)==1):\n",
    "        return (float(0.0),0.00)\n",
    "    else:\n",
    "        return ((sum([word_score for word_score in sent_score]) / (len(sent_score))),\n",
    "                (len(sent_score)/float(len(tagged_tokens))))"
   ]
  },
  {
   "cell_type": "code",
   "execution_count": 25,
   "metadata": {},
   "outputs": [
    {
     "name": "stdout",
     "output_type": "stream",
     "text": [
      "0.012741123403008649\n"
     ]
    }
   ],
   "source": [
    "test_ab = df['Clean_Abstract'][1]\n",
    "print(tag_get_score(test_ab)[0])"
   ]
  },
  {
   "cell_type": "code",
   "execution_count": 26,
   "metadata": {},
   "outputs": [],
   "source": [
    "df['abs_scores'] = df['Clean_Abstract'].apply(lambda x: tag_get_score(x)[0])\n",
    "#df['perc_tagged'] = df['Clean_Abstract'].apply(lambda x: tag_get_score(x)[1])"
   ]
  },
  {
   "cell_type": "code",
   "execution_count": 27,
   "metadata": {},
   "outputs": [
    {
     "data": {
      "text/plain": [
       "count    1824.000000\n",
       "mean        0.005063\n",
       "std         0.014375\n",
       "min        -0.052083\n",
       "25%        -0.003315\n",
       "50%         0.005202\n",
       "75%         0.013601\n",
       "max         0.062838\n",
       "Name: abs_scores, dtype: float64"
      ]
     },
     "execution_count": 27,
     "metadata": {},
     "output_type": "execute_result"
    }
   ],
   "source": [
    "df['abs_scores'].describe()"
   ]
  },
  {
   "cell_type": "code",
   "execution_count": 28,
   "metadata": {},
   "outputs": [
    {
     "data": {
      "text/plain": [
       "(array([  6.,   5.,   6.,  16.,  20.,  48.,  87., 150., 265., 320., 314.,\n",
       "        253., 163.,  85.,  46.,  21.,   8.,   6.,   2.,   3.]),\n",
       " array([-0.05208333, -0.04633728, -0.04059124, -0.03484519, -0.02909914,\n",
       "        -0.02335309, -0.01760704, -0.01186099, -0.00611494, -0.00036889,\n",
       "         0.00537716,  0.0111232 ,  0.01686925,  0.0226153 ,  0.02836135,\n",
       "         0.0341074 ,  0.03985345,  0.0455995 ,  0.05134555,  0.05709159,\n",
       "         0.06283764]),\n",
       " <a list of 20 Patch objects>)"
      ]
     },
     "execution_count": 28,
     "metadata": {},
     "output_type": "execute_result"
    },
    {
     "data": {
      "image/png": "[encoded data removed]",
      "text/plain": [
       "<matplotlib.figure.Figure at 0x1a28278898>"
      ]
     },
     "metadata": {},
     "output_type": "display_data"
    }
   ],
   "source": [
    "plt.style.use(\"dark_background\")\n",
    "plt.hist(df['abs_scores'],bins=20)"
   ]
  },
  {
   "cell_type": "code",
   "execution_count": null,
   "metadata": {},
   "outputs": [],
   "source": [
    "#plt.hist(df['perc_tagged'],bins=20)"
   ]
  },
  {
   "cell_type": "code",
   "execution_count": 29,
   "metadata": {},
   "outputs": [
    {
     "data": {
      "text/plain": [
       "disease\n",
       "alzheimers    0.005063\n",
       "Name: abs_scores, dtype: float64"
      ]
     },
     "execution_count": 29,
     "metadata": {},
     "output_type": "execute_result"
    }
   ],
   "source": [
    "df.groupby('disease',group_keys=False)['abs_scores'].mean().sort_values()"
   ]
  },
  {
   "cell_type": "markdown",
   "metadata": {},
   "source": [
    "#### Plotting Sentiment over time for disease"
   ]
  },
  {
   "cell_type": "code",
   "execution_count": 33,
   "metadata": {},
   "outputs": [
    {
     "data": {
      "text/plain": [
       "[<matplotlib.lines.Line2D at 0x1a285560b8>]"
      ]
     },
     "execution_count": 33,
     "metadata": {},
     "output_type": "execute_result"
    },
    {
     "data": {
      "image/png": "[encoded data removed]",
      "text/plain": [
       "<matplotlib.figure.Figure at 0x1a28547080>"
      ]
     },
     "metadata": {},
     "output_type": "display_data"
    }
   ],
   "source": [
    "disease = 'alzheimers'\n",
    "\n",
    "plot_df = df[df['disease']== disease][['abs_scores','Clean_Date']]\n",
    "\n",
    "#aids_df.set_index('Clean_Date',inplace=True,drop=True)\n",
    "#aids_df['Clean_Date'], aids_df['Clean_Date'] = aids_df['Clean_Date'].dt.year, \\\n",
    "#aids_df['Clean_Date'].dt.month\n",
    "\n",
    "plot_df['group_date'] = plot_df['Clean_Date'].apply(str).apply(lambda x: x.split('-')[0]) \\\n",
    "                            #+ \"-\"+ plot_df['Clean_Date'].apply(str).apply(lambda x: x.split('-')[1]) \n",
    "\n",
    "yearly = pd.DataFrame(plot_df.groupby('group_date',group_keys=False)['abs_scores'].mean())\n",
    "                            \n",
    "#aids_df.head()\n",
    "\n",
    "plt.figure(figsize=(12,6))\n",
    "plt.plot(yearly)"
   ]
  },
  {
   "cell_type": "markdown",
   "metadata": {},
   "source": [
    "#### Melting the cleaned abstract to tokens"
   ]
  },
  {
   "cell_type": "code",
   "execution_count": null,
   "metadata": {},
   "outputs": [],
   "source": [
    "abst_tokens = pd.DataFrame(df['Clean_Abstract'].str.split(' ',expand=True),index=df.index)\n",
    "#abst_tokens['Title'] = df['Article_title']\n",
    "\n",
    "abst_tokens['article_id'] = abst_tokens.index\n",
    "\n",
    "abst_df = pd.melt(abst_tokens, id_vars=['article_id'])\n",
    "\n",
    "abst_df = abst_df.sort_values(by=['article_id','variable'])\n",
    "\n",
    "abst_df.dropna(subset=['value'],inplace=True)\n",
    "\n",
    "print(abst_df.head())"
   ]
  },
  {
   "cell_type": "markdown",
   "metadata": {},
   "source": [
    "#### Creating the document-term matrix"
   ]
  },
  {
   "cell_type": "code",
   "execution_count": null,
   "metadata": {},
   "outputs": [],
   "source": [
    "vec = CountVectorizer(decode_error='ignore')\n",
    "X = vec.fit_transform(df['Clean_Abstract'])\n",
    "abst = pd.DataFrame(X.toarray(), columns=vec.get_feature_names())\n",
    "print(abst.head())\n"
   ]
  },
  {
   "cell_type": "markdown",
   "metadata": {},
   "source": [
    "#### Getting most common words in dataset"
   ]
  },
  {
   "cell_type": "code",
   "execution_count": null,
   "metadata": {},
   "outputs": [],
   "source": [
    "s = abst.sum(axis=0)#.sort(ascending=False, inplace=False)"
   ]
  },
  {
   "cell_type": "code",
   "execution_count": null,
   "metadata": {},
   "outputs": [],
   "source": [
    "s.sort_values(ascending=False).head(100)"
   ]
  },
  {
   "cell_type": "code",
   "execution_count": null,
   "metadata": {},
   "outputs": [],
   "source": [
    "plt.hist(s.values,bins=np.arange(min(s.values), max(s.values) + 10,10))\n",
    "plt.xlim(0,250)"
   ]
  },
  {
   "cell_type": "code",
   "execution_count": null,
   "metadata": {},
   "outputs": [],
   "source": []
  }
 ],
 "metadata": {
  "kernelspec": {
   "display_name": "Python 3",
   "language": "python",
   "name": "python3"
  },
  "language_info": {
   "codemirror_mode": {
    "name": "ipython",
    "version": 3
   },
   "file_extension": ".py",
   "mimetype": "text/x-python",
   "name": "python",
   "nbconvert_exporter": "python",
   "pygments_lexer": "ipython3",
   "version": "3.6.4"
  }
 },
 "nbformat": 4,
 "nbformat_minor": 2
}
